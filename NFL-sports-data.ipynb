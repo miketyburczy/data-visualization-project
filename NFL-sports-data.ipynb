{
 "cells": [
  {
   "cell_type": "code",
   "execution_count": null,
   "metadata": {},
   "outputs": [],
   "source": [
    "import json\n",
    "import requests\n",
    "from pprint import pprint\n",
    "from config import API_Key\n",
    "\n"
   ]
  },
  {
   "cell_type": "code",
   "execution_count": null,
   "metadata": {},
   "outputs": [],
   "source": [
    "## team schedule for 2020\n",
    "\n",
    "url = f\"https://fly.sportsdata.io/v3/nfl/scores/json/Schedules/2020?key={API_Key}\"\n",
    "\n",
    "    \n",
    "print(url)"
   ]
  },
  {
   "cell_type": "code",
   "execution_count": null,
   "metadata": {},
   "outputs": [],
   "source": [
    "response = requests.get(url).json()\n"
   ]
  },
  {
   "cell_type": "code",
   "execution_count": null,
   "metadata": {},
   "outputs": [],
   "source": [
    "pprint(response)"
   ]
  },
  {
   "cell_type": "code",
   "execution_count": null,
   "metadata": {},
   "outputs": [],
   "source": [
    "with open(\"./static/data/team-schedule.json\", \"w\") as json_file:\n",
    "    json.dump(response, json_file)"
   ]
  },
  {
   "cell_type": "code",
   "execution_count": null,
   "metadata": {},
   "outputs": [],
   "source": [
    "## all scores for 2020\n",
    "\n",
    "url2 = f\"https://fly.sportsdata.io/v3/nfl/scores/json/Scores/2020?key={API_Key}\"\n",
    "\n",
    "\n",
    "response2 = requests.get(url2).json()\n"
   ]
  },
  {
   "cell_type": "code",
   "execution_count": null,
   "metadata": {},
   "outputs": [],
   "source": [
    "pprint(response2)"
   ]
  },
  {
   "cell_type": "code",
   "execution_count": null,
   "metadata": {},
   "outputs": [],
   "source": [
    "with open(\"./static/data/NFLscores.json\", \"w\") as json_file:\n",
    "    json.dump(response2, json_file)"
   ]
  },
  {
   "cell_type": "code",
   "execution_count": null,
   "metadata": {},
   "outputs": [],
   "source": [
    "## team standings\n",
    "\n",
    "url3 = f\"https://fly.sportsdata.io/v3/nfl/scores/json/Standings/2020?key={API_Key}\"\n",
    "\n",
    "response3 = requests.get(url3).json()\n"
   ]
  },
  {
   "cell_type": "code",
   "execution_count": null,
   "metadata": {},
   "outputs": [],
   "source": [
    "pprint(response3)"
   ]
  },
  {
   "cell_type": "code",
   "execution_count": null,
   "metadata": {},
   "outputs": [],
   "source": [
    "with open(\"./static/data/standings.json\", \"w\") as json_file:\n",
    "    json.dump(response3, json_file)"
   ]
  },
  {
   "cell_type": "code",
   "execution_count": null,
   "metadata": {},
   "outputs": [],
   "source": [
    "url4 = f\"https://fly.sportsdata.io/v3/nfl/scores/json/TeamSeasonStats/2020REG?key={API_Key}\"\n",
    "\n",
    "response4 = requests.get(url4).json()\n"
   ]
  },
  {
   "cell_type": "code",
   "execution_count": null,
   "metadata": {},
   "outputs": [],
   "source": [
    "pprint(response4)"
   ]
  },
  {
   "cell_type": "code",
   "execution_count": null,
   "metadata": {},
   "outputs": [],
   "source": [
    "with open(\"./static/data/2020_season_stats.json\", \"w\") as json_file:\n",
    "    json.dump(response4, json_file)"
   ]
  },
  {
   "cell_type": "code",
   "execution_count": null,
   "metadata": {},
   "outputs": [],
   "source": [
    "url5 = f\"https://fly.sportsdata.io/v3/nfl/scores/json/Stadiums?key={API_Key}\"\n",
    "\n",
    "response5 = requests.get(url5).json()\n",
    "\n"
   ]
  },
  {
   "cell_type": "code",
   "execution_count": null,
   "metadata": {},
   "outputs": [],
   "source": [
    "with open(\"./static/data/Stadiums.json\", \"w\") as json_file:\n",
    "    json.dump(response5, json_file)"
   ]
  },
  {
   "cell_type": "code",
   "execution_count": null,
   "metadata": {},
   "outputs": [],
   "source": []
  }
 ],
 "metadata": {
  "kernelspec": {
   "display_name": "Python 3",
   "language": "python",
   "name": "python3"
  },
  "language_info": {
   "codemirror_mode": {
    "name": "ipython",
    "version": 3
   },
   "file_extension": ".py",
   "mimetype": "text/x-python",
   "name": "python",
   "nbconvert_exporter": "python",
   "pygments_lexer": "ipython3",
   "version": "3.8.5"
  }
 },
 "nbformat": 4,
 "nbformat_minor": 4
}
